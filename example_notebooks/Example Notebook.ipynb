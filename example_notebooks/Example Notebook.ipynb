{
 "cells": [
  {
   "cell_type": "code",
   "execution_count": 1,
   "metadata": {},
   "outputs": [],
   "source": [
    "import numpy as np\n",
    "import matplotlib.pyplot as plt\n",
    "\n",
    "from highteacli.apiactions import API\n",
    "api = API()\n",
    "\n",
    "PROCESS = 'pp_ttx_13TeV'"
   ]
  },
  {
   "cell_type": "code",
   "execution_count": 2,
   "metadata": {},
   "outputs": [],
   "source": [
    "import numpy as np\n",
    "\n",
    "data = {\n",
    "    #\"contributions\": [\"\"],\n",
    "    \"extra_variables\": {\n",
    "        'm_{tt}':'sqrt((p_t_0+p_tbar_0)**2-(p_t_1+p_tbar_1)**2-(p_t_2+p_tbar_2)**2-(p_t_3+p_tbar_3)**2)'\n",
    "    },\n",
    "    'pdf': 'CT14nnlo',\n",
    "    'muF': '20*muF0', \n",
    "    \"binning\": [\n",
    "        {\"variable\": \"m_{tt}\" , \"bins\":list(np.linspace(0,800,11))}\n",
    "    ]\n",
    "}\n",
    "\n",
    "request = api.request_hist(PROCESS, data)"
   ]
  },
  {
   "cell_type": "code",
   "execution_count": 3,
   "metadata": {},
   "outputs": [],
   "source": [
    "res = api.wait_token_json(request['token'])"
   ]
  },
  {
   "cell_type": "code",
   "execution_count": 5,
   "metadata": {},
   "outputs": [
    {
     "data": {
      "image/png": "[encoded data removed]",
      "text/plain": [
       "<Figure size 432x288 with 1 Axes>"
      ]
     },
     "metadata": {
      "needs_background": "light"
     },
     "output_type": "display_data"
    }
   ],
   "source": [
    "fig, ax = plt.subplots()\n",
    "\n",
    "xmin = min(x[0][0][0] for x in res['mean'])\n",
    "xmax = max(x[0][0][1] for x in res['mean'])\n",
    "\n",
    "ymax = max(y[1] for y in res['mean'])\n",
    "\n",
    "ax.set_xlim(xmin, xmax)\n",
    "ax.set_ylim(0, ymax)\n",
    "\n",
    "for i, ((xx,), y) in enumerate(res['mean']):\n",
    "    x0 = xx[0]\n",
    "    width = xx[1] - xx[0]\n",
    "    rect = plt.Rectangle((x0,0), width, y, facecolor='C0')\n",
    "    ax.add_patch(rect)\n",
    "    ax.set_xlabel(f\"${data['binning'][0]['variable']}$\")\n",
    "    #y_lo = res_lo['mean'][i][1]\n",
    "    #rect_lo = plt.Rectangle((x0,0), width, y_lo, facecolor='C1')\n",
    "    #ax.add_patch(rect_lo)\n",
    "    "
   ]
  }
 ],
 "metadata": {
  "kernelspec": {
   "display_name": "Python 3",
   "language": "python",
   "name": "python3"
  },
  "language_info": {
   "codemirror_mode": {
    "name": "ipython",
    "version": 3
   },
   "file_extension": ".py",
   "mimetype": "text/x-python",
   "name": "python",
   "nbconvert_exporter": "python",
   "pygments_lexer": "ipython3",
   "version": "3.7.7"
  }
 },
 "nbformat": 4,
 "nbformat_minor": 4
}
